{
 "cells": [
  {
   "cell_type": "markdown",
   "id": "a8c5aeed",
   "metadata": {},
   "source": [
    "# <center><font color='MediumSeaGreen'>Desafío - Variables</font><center>\n",
    "\n",
    "### <center><b> Bárbara Pérez </b><center>"
   ]
  },
  {
   "cell_type": "markdown",
   "id": "ee4aaf01",
   "metadata": {},
   "source": [
    "__________________"
   ]
  },
  {
   "cell_type": "markdown",
   "id": "d6982a41",
   "metadata": {},
   "source": [
    "## <font color='MediumSeaGreen'>Descripción</font>"
   ]
  },
  {
   "cell_type": "markdown",
   "id": "7770ac9a",
   "metadata": {},
   "source": [
    "La empresa en la cual usted trabaja tiene como solicitud el análisis del Índice de Desarrollo\n",
    "Humano (IDH) de diversos países para elaborar un informe para el Ministerio de Relaciones\n",
    "Exteriores a fin de poder contar con la data necesaria para poder comenzar a trabajar en\n",
    "relaciones diplomáticas más estrechas con diversos países. Para ello, usted queda a cargo\n",
    "de poder revisar la base de datos Quality of Government, de la Universidad de Gotemburgo.\n",
    "\n",
    "\n",
    "Las unidades de medición en esta base corresponden a 194 países, recolectando los\n",
    "últimos datos de enero del 2018. Además, se le recuerda que la base de datos es un\n",
    "compendio de alrededor de 1900 variables que miden las causas y consecuencias de un\n",
    "buen gobierno en materias económicas, salud pública, medio ambiente, salud institucional,\n",
    "corrupción, entre otras."
   ]
  },
  {
   "cell_type": "markdown",
   "id": "fb7218ee",
   "metadata": {},
   "source": [
    "____________"
   ]
  },
  {
   "cell_type": "markdown",
   "id": "f4a47ec7",
   "metadata": {},
   "source": [
    "## <font color='MediumSeaGreen'>Requerimientos</font> \n",
    "\n",
    "A continuación, revisaremos los requerimientos y acciones que el Ministerio de RREE te pide\n",
    "realizar."
   ]
  },
  {
   "cell_type": "markdown",
   "id": "9b910684",
   "metadata": {},
   "source": [
    "<b><font color='MediumSeaGreen'>1.</font> Genere una muestra de casos (1 punto). </b> Para ello debes considerar:"
   ]
  },
  {
   "cell_type": "markdown",
   "id": "a445d0c8",
   "metadata": {},
   "source": [
    "- Utilice los últimos 4 dígitos de su rut como semilla pseudoaleatoria.\n",
    "\n",
    "- Seleccione el 50% de los casos.\n",
    "\n",
    "- Cada base generada debe contener los siguientes elementos:\n",
    "\n",
    "    ○ El índice de desarrollo humano (undp_hdi).\n",
    "    \n",
    "    ○ El nombre del país (ccodealp).\n",
    "    \n",
    "    ○ La región a la que pertenece (ht_region).\n",
    "    \n",
    "    ○ El PIB per cápita. (gle_cgdpc).\n",
    "    \n",
    "    ○ El total de la población (imf_pop) \n",
    "    "
   ]
  },
  {
   "cell_type": "markdown",
   "id": "9f4271b8",
   "metadata": {},
   "source": [
    "- Si su apellido está entre la A y la M, escoja las siguientes variables del módulo Educación:\n",
    "\n",
    "    ○ *ffp_hf:* Human Flight and Brain Drain.\n",
    "    \n",
    "    ○ *wef_qes*: Quality of the educational system.\n",
    "    \n",
    "    ○ *wdi_expedu*: Government expenditure on education, total (% of GDP).\n",
    "    \n",
    "    ○ *wdi_ners:* School enrollment, secondary (% net)."
   ]
  },
  {
   "cell_type": "markdown",
   "id": "17dc2698",
   "metadata": {},
   "source": [
    "- Si su apellido está entre la N y la Z, escoja las siguientes variables del módulo Salud:\n",
    "\n",
    "    ○ *wef_imort*: Infant mortality, deaths/1000 live births.\n",
    "    \n",
    "    ○ *who_alc2000*: Alcohol consumption per capita (2000-).\n",
    "    \n",
    "    ○ *who_tobt*: Current smoking of any tobacco product (Total).\n",
    "    \n",
    "    ○ *wdi_exph*: Government expenditure on health, total (% of GDP).\n",
    "    \n",
    "    \n",
    " \n",
    "    \n",
    "- Guarde esta tabla procesada en un nuevo objeto.\n",
    "    \n",
    "- Renombre las categorías de la variable *ht_region* de números a regiones.\n",
    "    \n"
   ]
  },
  {
   "cell_type": "code",
   "execution_count": 1,
   "id": "9bd4a3cc",
   "metadata": {},
   "outputs": [],
   "source": [
    "import numpy as np\n",
    "import pandas as pd\n",
    "import matplotlib.pyplot as plt"
   ]
  },
  {
   "cell_type": "code",
   "execution_count": 2,
   "id": "a7ee45f3",
   "metadata": {},
   "outputs": [],
   "source": [
    "df = pd.read_csv('qog_std_cs_jan18.csv')"
   ]
  },
  {
   "cell_type": "code",
   "execution_count": 3,
   "id": "344f3f28",
   "metadata": {
    "scrolled": true
   },
   "outputs": [
    {
     "data": {
      "text/plain": [
       "194"
      ]
     },
     "execution_count": 3,
     "metadata": {},
     "output_type": "execute_result"
    }
   ],
   "source": [
    "columnas = df.shape[0]\n",
    "columnas"
   ]
  },
  {
   "cell_type": "code",
   "execution_count": 4,
   "id": "e3df96c9",
   "metadata": {
    "scrolled": true
   },
   "outputs": [
    {
     "data": {
      "text/html": [
       "<div>\n",
       "<style scoped>\n",
       "    .dataframe tbody tr th:only-of-type {\n",
       "        vertical-align: middle;\n",
       "    }\n",
       "\n",
       "    .dataframe tbody tr th {\n",
       "        vertical-align: top;\n",
       "    }\n",
       "\n",
       "    .dataframe thead th {\n",
       "        text-align: right;\n",
       "    }\n",
       "</style>\n",
       "<table border=\"1\" class=\"dataframe\">\n",
       "  <thead>\n",
       "    <tr style=\"text-align: right;\">\n",
       "      <th></th>\n",
       "      <th>ccode</th>\n",
       "      <th>cname</th>\n",
       "      <th>ccodealp</th>\n",
       "      <th>ccodecow</th>\n",
       "      <th>ccodewb</th>\n",
       "      <th>version</th>\n",
       "      <th>aid_cpnc</th>\n",
       "      <th>aid_cpsc</th>\n",
       "      <th>aid_crnc</th>\n",
       "      <th>aid_crnio</th>\n",
       "      <th>...</th>\n",
       "      <th>wvs_relacc</th>\n",
       "      <th>wvs_relsch</th>\n",
       "      <th>wvs_relsci</th>\n",
       "      <th>wvs_satfin</th>\n",
       "      <th>wvs_satlif</th>\n",
       "      <th>wvs_screl</th>\n",
       "      <th>wvs_subh</th>\n",
       "      <th>wvs_survself</th>\n",
       "      <th>wvs_tradrat</th>\n",
       "      <th>wvs_trust</th>\n",
       "    </tr>\n",
       "  </thead>\n",
       "  <tbody>\n",
       "    <tr>\n",
       "      <th>0</th>\n",
       "      <td>4</td>\n",
       "      <td>Afghanistan</td>\n",
       "      <td>AFG</td>\n",
       "      <td>700.0</td>\n",
       "      <td>4.0</td>\n",
       "      <td>QoGStdCSJan18</td>\n",
       "      <td>NaN</td>\n",
       "      <td>NaN</td>\n",
       "      <td>29.0</td>\n",
       "      <td>13.0</td>\n",
       "      <td>...</td>\n",
       "      <td>NaN</td>\n",
       "      <td>NaN</td>\n",
       "      <td>NaN</td>\n",
       "      <td>NaN</td>\n",
       "      <td>NaN</td>\n",
       "      <td>NaN</td>\n",
       "      <td>NaN</td>\n",
       "      <td>NaN</td>\n",
       "      <td>NaN</td>\n",
       "      <td>NaN</td>\n",
       "    </tr>\n",
       "    <tr>\n",
       "      <th>1</th>\n",
       "      <td>8</td>\n",
       "      <td>Albania</td>\n",
       "      <td>ALB</td>\n",
       "      <td>339.0</td>\n",
       "      <td>8.0</td>\n",
       "      <td>QoGStdCSJan18</td>\n",
       "      <td>NaN</td>\n",
       "      <td>NaN</td>\n",
       "      <td>26.0</td>\n",
       "      <td>13.0</td>\n",
       "      <td>...</td>\n",
       "      <td>NaN</td>\n",
       "      <td>NaN</td>\n",
       "      <td>NaN</td>\n",
       "      <td>NaN</td>\n",
       "      <td>NaN</td>\n",
       "      <td>NaN</td>\n",
       "      <td>NaN</td>\n",
       "      <td>NaN</td>\n",
       "      <td>NaN</td>\n",
       "      <td>NaN</td>\n",
       "    </tr>\n",
       "    <tr>\n",
       "      <th>2</th>\n",
       "      <td>12</td>\n",
       "      <td>Algeria</td>\n",
       "      <td>DZA</td>\n",
       "      <td>615.0</td>\n",
       "      <td>12.0</td>\n",
       "      <td>QoGStdCSJan18</td>\n",
       "      <td>NaN</td>\n",
       "      <td>NaN</td>\n",
       "      <td>21.0</td>\n",
       "      <td>6.0</td>\n",
       "      <td>...</td>\n",
       "      <td>3.710616</td>\n",
       "      <td>1.704692</td>\n",
       "      <td>3.681347</td>\n",
       "      <td>5.988125</td>\n",
       "      <td>6.301029</td>\n",
       "      <td>5.339371</td>\n",
       "      <td>3.805579</td>\n",
       "      <td>-0.409807</td>\n",
       "      <td>-0.498164</td>\n",
       "      <td>0.179286</td>\n",
       "    </tr>\n",
       "    <tr>\n",
       "      <th>3</th>\n",
       "      <td>20</td>\n",
       "      <td>Andorra</td>\n",
       "      <td>AND</td>\n",
       "      <td>232.0</td>\n",
       "      <td>20.0</td>\n",
       "      <td>QoGStdCSJan18</td>\n",
       "      <td>NaN</td>\n",
       "      <td>NaN</td>\n",
       "      <td>NaN</td>\n",
       "      <td>NaN</td>\n",
       "      <td>...</td>\n",
       "      <td>NaN</td>\n",
       "      <td>NaN</td>\n",
       "      <td>NaN</td>\n",
       "      <td>NaN</td>\n",
       "      <td>NaN</td>\n",
       "      <td>NaN</td>\n",
       "      <td>NaN</td>\n",
       "      <td>NaN</td>\n",
       "      <td>NaN</td>\n",
       "      <td>NaN</td>\n",
       "    </tr>\n",
       "    <tr>\n",
       "      <th>4</th>\n",
       "      <td>24</td>\n",
       "      <td>Angola</td>\n",
       "      <td>AGO</td>\n",
       "      <td>540.0</td>\n",
       "      <td>24.0</td>\n",
       "      <td>QoGStdCSJan18</td>\n",
       "      <td>NaN</td>\n",
       "      <td>NaN</td>\n",
       "      <td>22.0</td>\n",
       "      <td>13.0</td>\n",
       "      <td>...</td>\n",
       "      <td>NaN</td>\n",
       "      <td>NaN</td>\n",
       "      <td>NaN</td>\n",
       "      <td>NaN</td>\n",
       "      <td>NaN</td>\n",
       "      <td>NaN</td>\n",
       "      <td>NaN</td>\n",
       "      <td>NaN</td>\n",
       "      <td>NaN</td>\n",
       "      <td>NaN</td>\n",
       "    </tr>\n",
       "  </tbody>\n",
       "</table>\n",
       "<p>5 rows × 1882 columns</p>\n",
       "</div>"
      ],
      "text/plain": [
       "   ccode        cname ccodealp  ccodecow  ccodewb        version  aid_cpnc  \\\n",
       "0      4  Afghanistan      AFG     700.0      4.0  QoGStdCSJan18       NaN   \n",
       "1      8      Albania      ALB     339.0      8.0  QoGStdCSJan18       NaN   \n",
       "2     12      Algeria      DZA     615.0     12.0  QoGStdCSJan18       NaN   \n",
       "3     20      Andorra      AND     232.0     20.0  QoGStdCSJan18       NaN   \n",
       "4     24       Angola      AGO     540.0     24.0  QoGStdCSJan18       NaN   \n",
       "\n",
       "   aid_cpsc  aid_crnc  aid_crnio  ...  wvs_relacc  wvs_relsch  wvs_relsci  \\\n",
       "0       NaN      29.0       13.0  ...         NaN         NaN         NaN   \n",
       "1       NaN      26.0       13.0  ...         NaN         NaN         NaN   \n",
       "2       NaN      21.0        6.0  ...    3.710616    1.704692    3.681347   \n",
       "3       NaN       NaN        NaN  ...         NaN         NaN         NaN   \n",
       "4       NaN      22.0       13.0  ...         NaN         NaN         NaN   \n",
       "\n",
       "   wvs_satfin  wvs_satlif  wvs_screl  wvs_subh  wvs_survself  wvs_tradrat  \\\n",
       "0         NaN         NaN        NaN       NaN           NaN          NaN   \n",
       "1         NaN         NaN        NaN       NaN           NaN          NaN   \n",
       "2    5.988125    6.301029   5.339371  3.805579     -0.409807    -0.498164   \n",
       "3         NaN         NaN        NaN       NaN           NaN          NaN   \n",
       "4         NaN         NaN        NaN       NaN           NaN          NaN   \n",
       "\n",
       "   wvs_trust  \n",
       "0        NaN  \n",
       "1        NaN  \n",
       "2   0.179286  \n",
       "3        NaN  \n",
       "4        NaN  \n",
       "\n",
       "[5 rows x 1882 columns]"
      ]
     },
     "execution_count": 4,
     "metadata": {},
     "output_type": "execute_result"
    }
   ],
   "source": [
    "df.head()"
   ]
  },
  {
   "cell_type": "markdown",
   "id": "41ba336a",
   "metadata": {},
   "source": [
    "- **Utilice los últimos 4 dígitos de su rut como semilla pseudoaleatoria.**"
   ]
  },
  {
   "cell_type": "code",
   "execution_count": 5,
   "id": "387f9671",
   "metadata": {},
   "outputs": [],
   "source": [
    "#4 últimos dígitos de su rut como semilla pseudoaleatoria.\n",
    "semilla = 1063"
   ]
  },
  {
   "cell_type": "markdown",
   "id": "cb12e239",
   "metadata": {},
   "source": [
    "- **Seleccione el 50% de los casos.**"
   ]
  },
  {
   "cell_type": "code",
   "execution_count": 6,
   "id": "afabc63a",
   "metadata": {},
   "outputs": [],
   "source": [
    "df_mitad = df.sample(frac=.5, random_state=semilla)"
   ]
  },
  {
   "cell_type": "code",
   "execution_count": 7,
   "id": "6b7d88b1",
   "metadata": {
    "scrolled": true
   },
   "outputs": [
    {
     "data": {
      "text/plain": [
       "(97, 1882)"
      ]
     },
     "execution_count": 7,
     "metadata": {},
     "output_type": "execute_result"
    }
   ],
   "source": [
    "df_mitad.shape\n"
   ]
  },
  {
   "cell_type": "markdown",
   "id": "752c8d31",
   "metadata": {},
   "source": [
    "- **Cada base generada debe contener los siguientes elementos**: *undp_hdi, ccodealp, ht_region, gle_cgdpc y imf_pop*.\n",
    "\n",
    "\n",
    "- **Si su apellido está entre la N y la Z, escoja las siguientes variables del módulo Salud**: *wef_imort, who_alc2000, who_tobt* y  *wdi_exph*\n",
    "\n",
    "\n",
    "- Guarde esta tabla procesada en un nuevo objeto.\n",
    "\n"
   ]
  },
  {
   "cell_type": "code",
   "execution_count": 8,
   "id": "16b9a460",
   "metadata": {},
   "outputs": [],
   "source": [
    "#Array con las variables a usar en mi df\n",
    "variables_df_bpr =  ['undp_hdi', 'ccodealp', 'ht_region', 'gle_cgdpc', 'imf_pop', #Variables estandar\n",
    "                     'wef_imort', 'who_alc2000', 'who_tobt', 'wdi_exph'] #Variables según mi apellido (Pérez)\n",
    "\n",
    "#Crear el df con los elementos base y los acorde a mi apellido (Pérez) y lo guardo en un nuevo objeto\n",
    "df_bpr = df_mitad.loc[:, variables_df_bpr]"
   ]
  },
  {
   "cell_type": "code",
   "execution_count": 9,
   "id": "c648f8f3",
   "metadata": {},
   "outputs": [
    {
     "data": {
      "text/plain": [
       "pandas.core.frame.DataFrame"
      ]
     },
     "execution_count": 9,
     "metadata": {},
     "output_type": "execute_result"
    }
   ],
   "source": [
    "type(df_bpr)"
   ]
  },
  {
   "cell_type": "code",
   "execution_count": 10,
   "id": "4f6ef12c",
   "metadata": {
    "scrolled": true
   },
   "outputs": [
    {
     "data": {
      "text/plain": [
       "(97, 9)"
      ]
     },
     "execution_count": 10,
     "metadata": {},
     "output_type": "execute_result"
    }
   ],
   "source": [
    "df_bpr.shape"
   ]
  },
  {
   "cell_type": "code",
   "execution_count": 11,
   "id": "1d2bc796",
   "metadata": {
    "scrolled": true
   },
   "outputs": [
    {
     "data": {
      "text/html": [
       "<div>\n",
       "<style scoped>\n",
       "    .dataframe tbody tr th:only-of-type {\n",
       "        vertical-align: middle;\n",
       "    }\n",
       "\n",
       "    .dataframe tbody tr th {\n",
       "        vertical-align: top;\n",
       "    }\n",
       "\n",
       "    .dataframe thead th {\n",
       "        text-align: right;\n",
       "    }\n",
       "</style>\n",
       "<table border=\"1\" class=\"dataframe\">\n",
       "  <thead>\n",
       "    <tr style=\"text-align: right;\">\n",
       "      <th></th>\n",
       "      <th>undp_hdi</th>\n",
       "      <th>ccodealp</th>\n",
       "      <th>ht_region</th>\n",
       "      <th>gle_cgdpc</th>\n",
       "      <th>imf_pop</th>\n",
       "      <th>wef_imort</th>\n",
       "      <th>who_alc2000</th>\n",
       "      <th>who_tobt</th>\n",
       "      <th>wdi_exph</th>\n",
       "    </tr>\n",
       "  </thead>\n",
       "  <tbody>\n",
       "    <tr>\n",
       "      <th>164</th>\n",
       "      <td>0.488</td>\n",
       "      <td>SDN</td>\n",
       "      <td>4</td>\n",
       "      <td>NaN</td>\n",
       "      <td>NaN</td>\n",
       "      <td>NaN</td>\n",
       "      <td>NaN</td>\n",
       "      <td>NaN</td>\n",
       "      <td>8.428775</td>\n",
       "    </tr>\n",
       "    <tr>\n",
       "      <th>186</th>\n",
       "      <td>0.918</td>\n",
       "      <td>USA</td>\n",
       "      <td>5</td>\n",
       "      <td>47769.6990</td>\n",
       "      <td>318.789001</td>\n",
       "      <td>6.000000</td>\n",
       "      <td>8.82</td>\n",
       "      <td>18.100000</td>\n",
       "      <td>17.140755</td>\n",
       "    </tr>\n",
       "    <tr>\n",
       "      <th>44</th>\n",
       "      <td>0.773</td>\n",
       "      <td>CUB</td>\n",
       "      <td>2</td>\n",
       "      <td>5899.9399</td>\n",
       "      <td>NaN</td>\n",
       "      <td>NaN</td>\n",
       "      <td>4.37</td>\n",
       "      <td>36.099998</td>\n",
       "      <td>11.058801</td>\n",
       "    </tr>\n",
       "    <tr>\n",
       "      <th>124</th>\n",
       "      <td>0.642</td>\n",
       "      <td>NIC</td>\n",
       "      <td>2</td>\n",
       "      <td>2527.1001</td>\n",
       "      <td>5.946000</td>\n",
       "      <td>20.600000</td>\n",
       "      <td>3.55</td>\n",
       "      <td>NaN</td>\n",
       "      <td>9.040139</td>\n",
       "    </tr>\n",
       "    <tr>\n",
       "      <th>118</th>\n",
       "      <td>0.637</td>\n",
       "      <td>NAM</td>\n",
       "      <td>4</td>\n",
       "      <td>4521.2900</td>\n",
       "      <td>NaN</td>\n",
       "      <td>28.299999</td>\n",
       "      <td>7.84</td>\n",
       "      <td>23.799999</td>\n",
       "      <td>8.928688</td>\n",
       "    </tr>\n",
       "  </tbody>\n",
       "</table>\n",
       "</div>"
      ],
      "text/plain": [
       "     undp_hdi ccodealp  ht_region   gle_cgdpc     imf_pop  wef_imort  \\\n",
       "164     0.488      SDN          4         NaN         NaN        NaN   \n",
       "186     0.918      USA          5  47769.6990  318.789001   6.000000   \n",
       "44      0.773      CUB          2   5899.9399         NaN        NaN   \n",
       "124     0.642      NIC          2   2527.1001    5.946000  20.600000   \n",
       "118     0.637      NAM          4   4521.2900         NaN  28.299999   \n",
       "\n",
       "     who_alc2000   who_tobt   wdi_exph  \n",
       "164          NaN        NaN   8.428775  \n",
       "186         8.82  18.100000  17.140755  \n",
       "44          4.37  36.099998  11.058801  \n",
       "124         3.55        NaN   9.040139  \n",
       "118         7.84  23.799999   8.928688  "
      ]
     },
     "execution_count": 11,
     "metadata": {},
     "output_type": "execute_result"
    }
   ],
   "source": [
    "df_bpr.head()"
   ]
  },
  {
   "cell_type": "markdown",
   "id": "3589535e",
   "metadata": {},
   "source": [
    "\n",
    "- **Renombre las categorías de la variable ht_region de números a regiones.**"
   ]
  },
  {
   "cell_type": "code",
   "execution_count": 12,
   "id": "e8eb8555",
   "metadata": {},
   "outputs": [
    {
     "data": {
      "text/plain": [
       "{1: 'EastEurope',\n",
       " 2: 'LatAm',\n",
       " 3: 'NorthAfrica',\n",
       " 4: 'SubSaharian',\n",
       " 5: 'WesternDem',\n",
       " 6: 'EastAsia',\n",
       " 7: 'SouthEastAsia',\n",
       " 8: 'SouthAsia',\n",
       " 9: 'Pacific',\n",
       " 10: 'Caribbean'}"
      ]
     },
     "execution_count": 12,
     "metadata": {},
     "output_type": "execute_result"
    }
   ],
   "source": [
    "#Renombrar la variable ht_region reemplazando los números por el nombre de la región#\n",
    "\n",
    "regiones_numero = df_bpr['ht_region'].unique()\n",
    "regiones_numero.sort()\n",
    "regiones_numero\n",
    "\n",
    "regiones_nombre = ['EastEurope', 'LatAm', 'NorthAfrica', 'SubSaharian', 'WesternDem', \n",
    "                    'EastAsia', 'SouthEastAsia','SouthAsia','Pacific', 'Caribbean']\n",
    "\n",
    "regiones = dict(zip(regiones_numero, regiones_nombre))\n",
    "\n",
    "regiones"
   ]
  },
  {
   "cell_type": "code",
   "execution_count": 13,
   "id": "29862d7b",
   "metadata": {},
   "outputs": [],
   "source": [
    "#Renombrar las categorías de la variable ht_region de números a regiones.\n",
    "df_bpr['ht_region'] = df_bpr['ht_region'].replace(regiones)"
   ]
  },
  {
   "cell_type": "code",
   "execution_count": 14,
   "id": "45a47958",
   "metadata": {
    "scrolled": true
   },
   "outputs": [
    {
     "data": {
      "text/html": [
       "<div>\n",
       "<style scoped>\n",
       "    .dataframe tbody tr th:only-of-type {\n",
       "        vertical-align: middle;\n",
       "    }\n",
       "\n",
       "    .dataframe tbody tr th {\n",
       "        vertical-align: top;\n",
       "    }\n",
       "\n",
       "    .dataframe thead th {\n",
       "        text-align: right;\n",
       "    }\n",
       "</style>\n",
       "<table border=\"1\" class=\"dataframe\">\n",
       "  <thead>\n",
       "    <tr style=\"text-align: right;\">\n",
       "      <th></th>\n",
       "      <th>undp_hdi</th>\n",
       "      <th>ccodealp</th>\n",
       "      <th>ht_region</th>\n",
       "      <th>gle_cgdpc</th>\n",
       "      <th>imf_pop</th>\n",
       "      <th>wef_imort</th>\n",
       "      <th>who_alc2000</th>\n",
       "      <th>who_tobt</th>\n",
       "      <th>wdi_exph</th>\n",
       "    </tr>\n",
       "  </thead>\n",
       "  <tbody>\n",
       "    <tr>\n",
       "      <th>164</th>\n",
       "      <td>0.488</td>\n",
       "      <td>SDN</td>\n",
       "      <td>SubSaharian</td>\n",
       "      <td>NaN</td>\n",
       "      <td>NaN</td>\n",
       "      <td>NaN</td>\n",
       "      <td>NaN</td>\n",
       "      <td>NaN</td>\n",
       "      <td>8.428775</td>\n",
       "    </tr>\n",
       "    <tr>\n",
       "      <th>186</th>\n",
       "      <td>0.918</td>\n",
       "      <td>USA</td>\n",
       "      <td>WesternDem</td>\n",
       "      <td>47769.6990</td>\n",
       "      <td>318.789001</td>\n",
       "      <td>6.000000</td>\n",
       "      <td>8.82</td>\n",
       "      <td>18.100000</td>\n",
       "      <td>17.140755</td>\n",
       "    </tr>\n",
       "    <tr>\n",
       "      <th>44</th>\n",
       "      <td>0.773</td>\n",
       "      <td>CUB</td>\n",
       "      <td>LatAm</td>\n",
       "      <td>5899.9399</td>\n",
       "      <td>NaN</td>\n",
       "      <td>NaN</td>\n",
       "      <td>4.37</td>\n",
       "      <td>36.099998</td>\n",
       "      <td>11.058801</td>\n",
       "    </tr>\n",
       "    <tr>\n",
       "      <th>124</th>\n",
       "      <td>0.642</td>\n",
       "      <td>NIC</td>\n",
       "      <td>LatAm</td>\n",
       "      <td>2527.1001</td>\n",
       "      <td>5.946000</td>\n",
       "      <td>20.600000</td>\n",
       "      <td>3.55</td>\n",
       "      <td>NaN</td>\n",
       "      <td>9.040139</td>\n",
       "    </tr>\n",
       "    <tr>\n",
       "      <th>118</th>\n",
       "      <td>0.637</td>\n",
       "      <td>NAM</td>\n",
       "      <td>SubSaharian</td>\n",
       "      <td>4521.2900</td>\n",
       "      <td>NaN</td>\n",
       "      <td>28.299999</td>\n",
       "      <td>7.84</td>\n",
       "      <td>23.799999</td>\n",
       "      <td>8.928688</td>\n",
       "    </tr>\n",
       "  </tbody>\n",
       "</table>\n",
       "</div>"
      ],
      "text/plain": [
       "     undp_hdi ccodealp    ht_region   gle_cgdpc     imf_pop  wef_imort  \\\n",
       "164     0.488      SDN  SubSaharian         NaN         NaN        NaN   \n",
       "186     0.918      USA   WesternDem  47769.6990  318.789001   6.000000   \n",
       "44      0.773      CUB        LatAm   5899.9399         NaN        NaN   \n",
       "124     0.642      NIC        LatAm   2527.1001    5.946000  20.600000   \n",
       "118     0.637      NAM  SubSaharian   4521.2900         NaN  28.299999   \n",
       "\n",
       "     who_alc2000   who_tobt   wdi_exph  \n",
       "164          NaN        NaN   8.428775  \n",
       "186         8.82  18.100000  17.140755  \n",
       "44          4.37  36.099998  11.058801  \n",
       "124         3.55        NaN   9.040139  \n",
       "118         7.84  23.799999   8.928688  "
      ]
     },
     "execution_count": 14,
     "metadata": {},
     "output_type": "execute_result"
    }
   ],
   "source": [
    "df_bpr.head()"
   ]
  },
  {
   "cell_type": "markdown",
   "id": "9830c036",
   "metadata": {},
   "source": [
    "___________"
   ]
  },
  {
   "cell_type": "markdown",
   "id": "4dfc5ffa",
   "metadata": {},
   "source": [
    "<b><font color='MediumSeaGreen'>2.</font> Genere una función que ingrese su objeto y devuelva lo siguiente (2 puntos):</b>\n",
    "\n",
    "- Por cada variable existente en su objeto, calcule las medidas descriptivas para los casos continuos.\n",
    "\n",
    "- Para cada variable discreta, que calcule la frecuencia.\n",
    "\n",
    "- Reporte las estadísticas descriptivas para *gle_cgdpc*, *undp_hdi*, *imf_pop*.\n",
    "\n",
    "- Compare las estadísticas con algún compañero. ¿Ve alguna diferencia sustancial en alguna de ellas?\n"
   ]
  },
  {
   "cell_type": "code",
   "execution_count": 15,
   "id": "21b4a7b8",
   "metadata": {},
   "outputs": [],
   "source": [
    "#Calcular medidas descriptivas para los casos continuos y para variable discreta: calcule la frecuencia.\n",
    "def retorna_valores(df_parcial):\n",
    "    variables_continuas = df_parcial.select_dtypes(include=['float64', 'int64'])\n",
    "    print(\"\\n\\nMedidas descriptivas de variables continuas\\n\")\n",
    "    print(variables_continuas.describe())\n",
    "    variables_discretas = df_parcial.select_dtypes(exclude=['float64', 'int64'])\n",
    "    print(\"\\n\\nFreecuencia de variables discretas\")\n",
    "    for i in variables_discretas.columns:\n",
    "        print(f\"\\nNombre de variable: {i}, frecuencia: {df_parcial[i].value_counts()}\\n\")"
   ]
  },
  {
   "cell_type": "code",
   "execution_count": 16,
   "id": "d059fb18",
   "metadata": {},
   "outputs": [
    {
     "name": "stdout",
     "output_type": "stream",
     "text": [
      "\n",
      "\n",
      "Medidas descriptivas de variables continuas\n",
      "\n",
      "        undp_hdi      gle_cgdpc     imf_pop  wef_imort  who_alc2000  \\\n",
      "count  93.000000      95.000000   65.000000  72.000000    88.000000   \n",
      "mean    0.694108   14209.722113   28.034292  23.388889     4.909773   \n",
      "std     0.156613   18471.512873   56.295196  21.583559     4.044192   \n",
      "min     0.347000     324.160000    0.011000   2.200000     0.000000   \n",
      "25%     0.576000    2160.739950    1.316000   5.950000     1.297500   \n",
      "50%     0.729000    7370.720200    7.202000  16.150001     3.930000   \n",
      "75%     0.826000   20591.410000   30.709000  33.374999     8.437500   \n",
      "max     0.948000  108481.130000  318.789001  79.599998    15.190000   \n",
      "\n",
      "        who_tobt   wdi_exph  \n",
      "count  61.000000  95.000000  \n",
      "mean   24.173770   6.961068  \n",
      "std     9.227259   2.765961  \n",
      "min     8.400000   1.475303  \n",
      "25%    18.100000   5.018914  \n",
      "50%    23.799999   6.552117  \n",
      "75%    30.100000   8.435844  \n",
      "max    54.000000  17.140755  \n",
      "\n",
      "\n",
      "Freecuencia de variables discretas\n",
      "\n",
      "Nombre de variable: ccodealp, frecuencia: SDN    1\n",
      "GRD    1\n",
      "BHS    1\n",
      "PRY    1\n",
      "ZAF    1\n",
      "      ..\n",
      "ARG    1\n",
      "COD    1\n",
      "BGD    1\n",
      "DZA    1\n",
      "PRT    1\n",
      "Name: ccodealp, Length: 97, dtype: int64\n",
      "\n",
      "\n",
      "Nombre de variable: ht_region, frecuencia: SubSaharian      25\n",
      "WesternDem       14\n",
      "EastEurope       14\n",
      "LatAm            12\n",
      "NorthAfrica      12\n",
      "Caribbean         6\n",
      "Pacific           5\n",
      "SouthAsia         4\n",
      "SouthEastAsia     3\n",
      "EastAsia          2\n",
      "Name: ht_region, dtype: int64\n",
      "\n"
     ]
    }
   ],
   "source": [
    "#medidas descriptivas para los casos continuos y para variable discreta: calcule la frecuencia.\n",
    "retorna_valores(df_bpr)"
   ]
  },
  {
   "cell_type": "markdown",
   "id": "fc441e47",
   "metadata": {},
   "source": [
    "- Compare las estadísticas con algún compañero. ¿Ve alguna diferencia sustancial en alguna de ellas?"
   ]
  },
  {
   "cell_type": "markdown",
   "id": "902750af",
   "metadata": {},
   "source": [
    "Al comparar las estadisticas con compañeros se obtienen resultados similares, sion embargo la cantidad de registros cambian por la semilla colocada según el rut de cada uno"
   ]
  },
  {
   "cell_type": "markdown",
   "id": "2ecfd47c",
   "metadata": {},
   "source": [
    "________"
   ]
  },
  {
   "cell_type": "markdown",
   "id": "1bdb56d6",
   "metadata": {},
   "source": [
    "<b><font color='MediumSeaGreen'>3.</font> Genere una función que liste las observaciones perdidas de una variable (2 puntos)</b>"
   ]
  },
  {
   "cell_type": "markdown",
   "id": "dd5faaeb",
   "metadata": {},
   "source": [
    "- La función debe contener los siguientes argumentos:\n",
    "\n",
    "    ○ *dataframe*: La función debe ingresar un objeto DataFrame.\n",
    "    \n",
    "    ○ *var*: Variable a inspeccionar.\n",
    "    \n",
    "    ○ *print_list*: Opción para imprimir la lista de observaciones perdidas en la variable. Debe ser False por defecto.\n",
    "    \n",
    "    \n",
    "-  La función debe retornar la cantidad de casos perdidos y el porcentaje correspondiente.\n",
    "\n",
    "- Cuando *print_list = True*, debe retornar la lista de casos.\n",
    "\n",
    "- Analice todas las variables y sus casos perdidos.\n",
    "\n",
    "    Para las 3 variables con un mayor porcentaje de casos perdidos, solicite la lista de países con ausencia de datos."
   ]
  },
  {
   "cell_type": "code",
   "execution_count": 17,
   "id": "bd99fead",
   "metadata": {},
   "outputs": [],
   "source": [
    "#función que liste las observaciones perdidas de una variable\n",
    "def observaciones_perdidas(df_parcial, var, print_list=False):\n",
    "    casos_perdidos = df_parcial[var].isna()\n",
    "    if True in casos_perdidos.values:\n",
    "        cantidad_casos_perdidos = casos_perdidos.value_counts()[True]\n",
    "        porcentaje_casos_perdidos = df_parcial[var].isna().value_counts('%')[True]\n",
    "    else:\n",
    "        cantidad_casos_perdidos = 0\n",
    "        porcentaje_casos_perdidos = 0\n",
    "    if print_list:\n",
    "        return df_parcial[df_parcial[var].isna()]\n",
    "    else:\n",
    "        return {\"casos perdidos\": cantidad_casos_perdidos, \"porcentaje\": porcentaje_casos_perdidos} "
   ]
  },
  {
   "cell_type": "markdown",
   "id": "aade5f36",
   "metadata": {},
   "source": [
    "- **Analice todas las variables y sus casos perdidos.**"
   ]
  },
  {
   "cell_type": "code",
   "execution_count": 18,
   "id": "d644a1cb",
   "metadata": {
    "scrolled": true
   },
   "outputs": [
    {
     "name": "stdout",
     "output_type": "stream",
     "text": [
      "Observaciones perdidas para la columna 'undp_hdi': {'casos perdidos': 4, 'porcentaje': 0.041237113402061855}\n",
      "Observaciones perdidas para la columna 'ccodealp': {'casos perdidos': 0, 'porcentaje': 0}\n",
      "Observaciones perdidas para la columna 'ht_region': {'casos perdidos': 0, 'porcentaje': 0}\n",
      "Observaciones perdidas para la columna 'gle_cgdpc': {'casos perdidos': 2, 'porcentaje': 0.020618556701030927}\n",
      "Observaciones perdidas para la columna 'imf_pop': {'casos perdidos': 32, 'porcentaje': 0.32989690721649484}\n",
      "Observaciones perdidas para la columna 'wef_imort': {'casos perdidos': 25, 'porcentaje': 0.25773195876288657}\n",
      "Observaciones perdidas para la columna 'who_alc2000': {'casos perdidos': 9, 'porcentaje': 0.09278350515463918}\n",
      "Observaciones perdidas para la columna 'who_tobt': {'casos perdidos': 36, 'porcentaje': 0.3711340206185567}\n",
      "Observaciones perdidas para la columna 'wdi_exph': {'casos perdidos': 2, 'porcentaje': 0.020618556701030927}\n"
     ]
    }
   ],
   "source": [
    "variables_df_bpr =  [\n",
    "        'undp_hdi', 'ccodealp', 'ht_region', 'gle_cgdpc', 'imf_pop',\n",
    "        'wef_imort', 'who_alc2000', 'who_tobt', 'wdi_exph'\n",
    "    ]\n",
    "\n",
    "#analizar todas las variables y sus casos perdidos\n",
    "for i in variables_df_bpr:\n",
    "    print(f\"Observaciones perdidas para la columna '{i}': {observaciones_perdidas(df_bpr, str(i))}\")"
   ]
  },
  {
   "cell_type": "markdown",
   "id": "6a14eb66",
   "metadata": {},
   "source": [
    "Las 3 variables con mayores observaciones perdidas son: **'who_tobt'**, **'imf_pop'** y **'wef_imort'**."
   ]
  },
  {
   "cell_type": "markdown",
   "id": "219f86bc",
   "metadata": {},
   "source": [
    "- **Para las 3 variables con un mayor porcentaje de casos perdidos, solicite la lista de países con ausencia de datos.**"
   ]
  },
  {
   "cell_type": "code",
   "execution_count": 19,
   "id": "c8a9083c",
   "metadata": {
    "scrolled": true
   },
   "outputs": [
    {
     "name": "stdout",
     "output_type": "stream",
     "text": [
      "Los paises con observaciones perdidas para variable 'who_tobot' son: \n",
      " ['Sudan (2012-)' 'Nicaragua' 'Timor-Leste' 'Trinidad and Tobago'\n",
      " 'Equatorial Guinea' 'Peru' 'Maldives' 'Guinea-Bissau' 'St Lucia' 'Yemen'\n",
      " 'Venezuela' 'Liechtenstein' 'Guyana' 'Algeria'\n",
      " 'Congo, Democratic Republic' 'Monaco' 'Iraq' 'Central African Republic'\n",
      " 'United Arab Emirates' 'Palau' 'Somalia' 'Guatemala' 'Grenada'\n",
      " 'Solomon Islands' 'Tunisia' 'El Salvador' 'Madagascar' 'Bahamas' 'Gabon'\n",
      " 'Gambia' 'Sao Tome and Principe' 'Burundi' 'South Sudan' 'Tuvalu'\n",
      " 'San Marino' 'Montenegro']\n"
     ]
    }
   ],
   "source": [
    "#obtener las observaciones perdidas de la primera variable\n",
    "df_op_who_tobot = observaciones_perdidas(df_bpr, 'who_tobt', print_list=True)\n",
    "df_op_who_tobot.index #obtenemos el indice de las observaciones perdidas de 'who_tobot'\n",
    "\n",
    "#obetenemos el nombre del país de las observaciones con los mismos indices de las observaciones perdidas de 'who_tobot'\n",
    "print(f\"Los paises con observaciones perdidas para variable 'who_tobot' son: \\n\",df.loc[list(df_op_who_tobot.index)]['cname'].values)"
   ]
  },
  {
   "cell_type": "code",
   "execution_count": 20,
   "id": "30bbea2c",
   "metadata": {},
   "outputs": [
    {
     "name": "stdout",
     "output_type": "stream",
     "text": [
      "Los paises con observaciones perdidas para variable 'imf_pop' son: \n",
      " ['Sudan (2012-)' 'Cuba' 'Namibia' 'Honduras' 'Equatorial Guinea'\n",
      " 'Guinea-Bissau' 'India' 'Yemen' 'Venezuela' 'Liechtenstein'\n",
      " 'Congo, Democratic Republic' 'Monaco' 'Central African Republic'\n",
      " 'United Arab Emirates' 'Somalia' 'Guatemala' 'Grenada' 'Lesotho' 'Zambia'\n",
      " 'Tunisia' 'Niger' 'El Salvador' 'Madagascar' 'Gabon' 'Haiti' 'Andorra'\n",
      " 'Gambia' 'Sao Tome and Principe' 'Burundi' 'Senegal' 'South Sudan'\n",
      " 'Cameroon']\n"
     ]
    }
   ],
   "source": [
    "#obtener las observaciones perdidas de la tercera variable\n",
    "df_op_imf_pop = observaciones_perdidas(df_bpr, 'imf_pop', print_list=True)\n",
    "df_op_imf_pop.index #obtenemos el indice de las observaciones perdidas de 'imf_pop'\n",
    "\n",
    "#obetener el nombre del país de las observaciones con los mismos indices de las observaciones perdidas de 'imf_pop'\n",
    "print(f\"Los paises con observaciones perdidas para variable 'imf_pop' son: \\n\",df.loc[list(df_op_imf_pop.index)]['cname'].values)"
   ]
  },
  {
   "cell_type": "code",
   "execution_count": 21,
   "id": "b90bb825",
   "metadata": {
    "scrolled": true
   },
   "outputs": [
    {
     "name": "stdout",
     "output_type": "stream",
     "text": [
      "Los paises con observaciones perdidas para variable 'wef_imort' son: \n",
      " ['Sudan (2012-)' 'Cuba' 'Fiji' 'Kiribati' 'Equatorial Guinea' 'Maldives'\n",
      " 'Guinea-Bissau' 'St Lucia' 'Liechtenstein' 'Monaco' 'Iraq'\n",
      " 'Central African Republic' 'Uzbekistan' 'Palau' 'Somalia' 'Grenada'\n",
      " 'Comoros' 'Solomon Islands' 'Niger' 'Bahamas' 'Andorra'\n",
      " 'Sao Tome and Principe' 'South Sudan' 'Tuvalu' 'San Marino']\n"
     ]
    }
   ],
   "source": [
    "#obtener las observaciones perdidas de la segunda variable\n",
    "df_op_wef_imort = observaciones_perdidas(df_bpr, 'wef_imort', print_list=True)\n",
    "df_op_wef_imort.index #obtenemos el indice de las observaciones perdidas de 'wef_imort'\n",
    "\n",
    "#obetener el nombre del país de las observaciones con los mismos indices de las observaciones perdidas de 'wef_imort'\n",
    "print(f\"Los paises con observaciones perdidas para variable 'wef_imort' son: \\n\",df.loc[list(df_op_wef_imort.index)]['cname'].values)"
   ]
  },
  {
   "cell_type": "markdown",
   "id": "ddfb31fd",
   "metadata": {},
   "source": [
    "______"
   ]
  },
  {
   "cell_type": "markdown",
   "id": "88b9030f",
   "metadata": {},
   "source": [
    "<b><font color='MediumSeaGreen'>4.</font> Grafique histogramas indicando medias muestral y total (2 puntos)</b>"
   ]
  },
  {
   "cell_type": "markdown",
   "id": "bc011e5e",
   "metadata": {},
   "source": [
    "- Genere una nueva función que grafique un histograma de una variable entregada para un DataFrame de muestra. El gráfico debe además señalar las medias de la variable entregada, tanto para el *DataFrame* de muestra entregado, como para el *DataFrame* completo correspondiente.\n",
    "\n",
    "- La función debe incluir los siguientes argumentos:\n",
    "\n",
    "    ○ *sample_df*: La base de datos donde se encuentran los datos específicos (muestra).\n",
    "    \n",
    "    ○ *full_df*: La base de datos donde se encuentran todos los datos (contiene los datos de la muestra).\n",
    "    \n",
    "    ○ *var*: La variable a graficar.\n",
    "    \n",
    "    ○ *sample_mean*: Booleano. Si es verdadero, debe generar una recta vertical indicando la media de la variable en la selección muestral (sample_df).\n",
    "    Por defecto debe ser **False**.\n",
    "   \n",
    "\n",
    "    ○ *true_mean*: Booleano. Si es verdadero, debe generar una recta vertical indicando la media de variable en la base de datos completa (full_df).\n",
    "    \n",
    "    \n",
    "- Implemente las funciones para las 4 variables seleccionadas según su grupo.\n",
    "\n",
    "¿En qué variables la media de la muestra es mayor a la de los datos completos?"
   ]
  },
  {
   "cell_type": "code",
   "execution_count": 22,
   "id": "fce1fa2d",
   "metadata": {},
   "outputs": [],
   "source": [
    "#Grafique histogramas indicando medias muestral y total \n",
    "\n",
    "def grafica_histograma(sample_df, full_df, var, sample_mean=False, true_mean=False):\n",
    "\n",
    "    sample_df_var = sample_df[var].dropna()\n",
    "    full_df_var = full_df[var].dropna()\n",
    "    plt.hist(sample_df_var, density=False)\n",
    "    #aplicamos las condiciones del desafío\n",
    "    if sample_mean:\n",
    "        plt.axvline(sample_df_var.mean(), color='tomato', label=\"Sample mean\")\n",
    "    if true_mean:\n",
    "        plt.axvline(full_df_var.mean(), color='yellow', label=\"True mean\")\n",
    "    plt.title(f\"Histograma de la variable {var}\")\n",
    "    plt.xlabel(var)\n",
    "    plt.legend()"
   ]
  },
  {
   "cell_type": "markdown",
   "id": "20f56f32",
   "metadata": {},
   "source": [
    "- Implemente las funciones para las 4 variables seleccionadas según su grupo:\n",
    " **wef_imort** , **who_alc2000**, **who_tobt** y **wdi_exph**."
   ]
  },
  {
   "cell_type": "code",
   "execution_count": 23,
   "id": "95453e1f",
   "metadata": {},
   "outputs": [
    {
     "data": {
      "image/png": "[encoded data removed]",
      "text/plain": [
       "<Figure size 432x288 with 1 Axes>"
      ]
     },
     "metadata": {
      "needs_background": "light"
     },
     "output_type": "display_data"
    }
   ],
   "source": [
    "grafica_histograma(df_bpr, df, 'wef_imort', sample_mean=True, true_mean=True)"
   ]
  },
  {
   "cell_type": "code",
   "execution_count": 24,
   "id": "3e74a586",
   "metadata": {},
   "outputs": [
    {
     "data": {
      "image/png": "[encoded data removed]",
      "text/plain": [
       "<Figure size 432x288 with 1 Axes>"
      ]
     },
     "metadata": {
      "needs_background": "light"
     },
     "output_type": "display_data"
    }
   ],
   "source": [
    "grafica_histograma(df_bpr, df, 'who_alc2000', sample_mean=True, true_mean=True)"
   ]
  },
  {
   "cell_type": "code",
   "execution_count": 25,
   "id": "5a6d315c",
   "metadata": {},
   "outputs": [
    {
     "data": {
      "image/png": "[encoded data removed]",
      "text/plain": [
       "<Figure size 432x288 with 1 Axes>"
      ]
     },
     "metadata": {
      "needs_background": "light"
     },
     "output_type": "display_data"
    }
   ],
   "source": [
    "grafica_histograma(df_bpr, df, 'who_tobt', sample_mean=True, true_mean=True)"
   ]
  },
  {
   "cell_type": "code",
   "execution_count": 26,
   "id": "3c6198a0",
   "metadata": {
    "scrolled": false
   },
   "outputs": [
    {
     "data": {
      "image/png": "[encoded data removed]",
      "text/plain": [
       "<Figure size 432x288 with 1 Axes>"
      ]
     },
     "metadata": {
      "needs_background": "light"
     },
     "output_type": "display_data"
    }
   ],
   "source": [
    "grafica_histograma(df_bpr, df, 'wdi_exph', sample_mean=True, true_mean=True)"
   ]
  },
  {
   "cell_type": "markdown",
   "id": "878ca224",
   "metadata": {},
   "source": [
    "- **¿En qué variables la media de la muestra es mayor a la de los datos completos?**"
   ]
  },
  {
   "cell_type": "markdown",
   "id": "dc7b83d8",
   "metadata": {},
   "source": [
    "La media de las variables ***'who_tobt'*** y ***'wdi_exph'*** son mas cercanas a la media con todos los datos, sin embargo no alcanzan a ser mayor que la media con todos los datos"
   ]
  },
  {
   "cell_type": "markdown",
   "id": "9101a6bf",
   "metadata": {},
   "source": [
    "_____________"
   ]
  },
  {
   "cell_type": "markdown",
   "id": "f2e8767f",
   "metadata": {},
   "source": [
    "<b><font color='MediumSeaGreen'>5.</font> Genere una función que devuelva un dotplot con las medias por región para una\n",
    "variable entregada (2 puntos)</b>"
   ]
  },
  {
   "cell_type": "markdown",
   "id": "10f506b2",
   "metadata": {},
   "source": [
    "- Cada “punto” del dotplot debe representar la media, o mediana, de una variable para una región específica.\n",
    "\n",
    "- La función debe contener los siguientes parámetros:\n",
    "\n",
    "    ○ dataframe: La tabla de datos donde buscar las variables.\n",
    "    \n",
    "    ○ plot_var: Corresponde a una columna del dataframe entregado, de la cual se desea obtener la métrica (puede ser media o mediana).\n",
    "    \n",
    "    ○ plot_by: Corresponde a otra columna del dataframe entregado. Es la  columna por la cual se quiere agrupar el dataframe, para acceder luego a la columna entregada en plot_var"
   ]
  },
  {
   "cell_type": "markdown",
   "id": "b5b90bb4",
   "metadata": {},
   "source": [
    "**Tip:** Revise el uso del método groupby de pandas"
   ]
  },
  {
   "cell_type": "markdown",
   "id": "ff2ceebb",
   "metadata": {},
   "source": [
    "     ○ statistic: Debe presentar dos opciones; \"mean\" para la media y \"median\" para la mediana. Por defecto debe ser \"mean\".\n",
    "        \n",
    "     ○ global_stat: Booleano. Si es True, debe graficar la media (o mediana, según lo indicado en statistic) de la variable plot_var entregada, sin agrupar (para todos los datos entregados en dataframe). Por defecto debe ser **False**.\n",
    "     \n",
    "- Implemente la función en las 3 variables con una menor cantidad de datos perdidos"
   ]
  },
  {
   "cell_type": "code",
   "execution_count": 27,
   "id": "3dce68a1",
   "metadata": {},
   "outputs": [],
   "source": [
    "def grafica_dotplot(sample_df, full_df, plot_var, plot_by, global_stats=False, statistic='mean'):   \n",
    "   \n",
    "    if global_stats:\n",
    "        var_dropna = full_df[full_df[plot_var].notna()]\n",
    "        group_mean = var_dropna.groupby(plot_by)[plot_var].mean()\n",
    "        group_median = var_dropna.groupby(plot_by)[plot_var].median()\n",
    "    else:\n",
    "        var_dropna = sample_df[sample_df[plot_var].notna()]\n",
    "        group_mean = var_dropna.groupby(plot_by)[plot_var].mean()\n",
    "        group_median = var_dropna.groupby(plot_by)[plot_var].median()\n",
    "    plt.title(f\"{plot_var} - {plot_by}\")\n",
    "    plt.xlabel(plot_var)\n",
    "    plt.ylabel(plot_by)\n",
    "    \n",
    "    if statistic == 'mean':\n",
    "        return plt.plot(group_mean.values, group_mean.index, 'o'), plt.axvline(var_dropna[plot_var].mean(), color='tomato', label='mean'), plt.legend()\n",
    "    else:\n",
    "        return plt.plot(group_median.values, group_median.index, 'o'), plt.axvline(var_dropna[plot_var].median(), color='tomato', label='median'), plt.legend()"
   ]
  },
  {
   "cell_type": "markdown",
   "id": "72822050",
   "metadata": {},
   "source": [
    "- Implemente la función en las 3 variables con una menor cantidad de datos perdidos"
   ]
  },
  {
   "cell_type": "code",
   "execution_count": 28,
   "id": "21a4b4c4",
   "metadata": {},
   "outputs": [
    {
     "data": {
      "text/plain": [
       "([<matplotlib.lines.Line2D at 0x1e340739a90>],\n",
       " <matplotlib.lines.Line2D at 0x1e34070dac8>,\n",
       " <matplotlib.legend.Legend at 0x1e340751128>)"
      ]
     },
     "execution_count": 28,
     "metadata": {},
     "output_type": "execute_result"
    },
    {
     "data": {
      "image/png": "[encoded data removed]",
      "text/plain": [
       "<Figure size 432x288 with 1 Axes>"
      ]
     },
     "metadata": {
      "needs_background": "light"
     },
     "output_type": "display_data"
    }
   ],
   "source": [
    "#ejecutar función con la primera de las 3 variables ('wdi_exph') \n",
    "grafica_dotplot(df_bpr, df, 'wdi_exph', 'ht_region', global_stats=False, statistic='mean')"
   ]
  },
  {
   "cell_type": "code",
   "execution_count": 29,
   "id": "aea322d0",
   "metadata": {
    "scrolled": true
   },
   "outputs": [
    {
     "data": {
      "text/plain": [
       "([<matplotlib.lines.Line2D at 0x1e3407bbd30>],\n",
       " <matplotlib.lines.Line2D at 0x1e340784470>,\n",
       " <matplotlib.legend.Legend at 0x1e3407da358>)"
      ]
     },
     "execution_count": 29,
     "metadata": {},
     "output_type": "execute_result"
    },
    {
     "data": {
      "image/png": "[encoded data removed]",
      "text/plain": [
       "<Figure size 432x288 with 1 Axes>"
      ]
     },
     "metadata": {
      "needs_background": "light"
     },
     "output_type": "display_data"
    }
   ],
   "source": [
    "#ejecutar función con la primera de las 3 variables ('gle_cgdpc') \n",
    "grafica_dotplot(df_bpr,df, 'gle_cgdpc', 'ht_region', global_stats=False, statistic='mean')"
   ]
  },
  {
   "cell_type": "code",
   "execution_count": 30,
   "id": "361f407f",
   "metadata": {},
   "outputs": [
    {
     "data": {
      "text/plain": [
       "([<matplotlib.lines.Line2D at 0x1e340839c88>],\n",
       " <matplotlib.lines.Line2D at 0x1e34080cd68>,\n",
       " <matplotlib.legend.Legend at 0x1e340855208>)"
      ]
     },
     "execution_count": 30,
     "metadata": {},
     "output_type": "execute_result"
    },
    {
     "data": {
      "image/png": "[encoded data removed]",
      "text/plain": [
       "<Figure size 432x288 with 1 Axes>"
      ]
     },
     "metadata": {
      "needs_background": "light"
     },
     "output_type": "display_data"
    }
   ],
   "source": [
    "#ejecutar función con la primera de las 3 variables ('undp_hdi') \n",
    "grafica_dotplot(df_bpr,df, 'undp_hdi', 'ht_region', global_stats=False, statistic='mean')"
   ]
  },
  {
   "cell_type": "code",
   "execution_count": 31,
   "id": "9b55b808",
   "metadata": {},
   "outputs": [],
   "source": [
    "def grafica_dotplot_v2(dataframe, plot_var, plot_by, statistic='mean'):   \n",
    "    import matplotlib.pyplot as plt\n",
    "    var_dropna = dataframe[dataframe[plot_var].notna()]\n",
    "    group_mean = var_dropna.groupby(plot_by)[plot_var].mean()\n",
    "    group_median = var_dropna.groupby(plot_by)[plot_var].median()\n",
    "    plt.title(f\"{plot_var} - {plot_by}\")\n",
    "    plt.xlabel(plot_var)\n",
    "    plt.ylabel(plot_by)\n",
    "    if statistic == 'mean':\n",
    "        return plt.plot(group_mean.values, group_mean.index, 'o'), plt.axvline(var_dropna[plot_var].mean(), color='tomato', label='mean'),     plt.legend()\n",
    "    else:\n",
    "        return plt.plot(group_median.values, group_median.index, 'o'), plt.axvline(var_dropna[plot_var].median(), color='tomato', label='median'),     plt.legend()"
   ]
  },
  {
   "cell_type": "code",
   "execution_count": 32,
   "id": "e96424b9",
   "metadata": {},
   "outputs": [
    {
     "data": {
      "text/plain": [
       "([<matplotlib.lines.Line2D at 0x1e3408da908>],\n",
       " <matplotlib.lines.Line2D at 0x1e34089c860>,\n",
       " <matplotlib.legend.Legend at 0x1e3408daef0>)"
      ]
     },
     "execution_count": 32,
     "metadata": {},
     "output_type": "execute_result"
    },
    {
     "data": {
      "image/png": "[encoded data removed]",
      "text/plain": [
       "<Figure size 432x288 with 1 Axes>"
      ]
     },
     "metadata": {
      "needs_background": "light"
     },
     "output_type": "display_data"
    }
   ],
   "source": [
    "grafica_dotplot_v2(df_bpr, 'undp_hdi', 'ht_region', statistic='mean')"
   ]
  },
  {
   "cell_type": "code",
   "execution_count": 33,
   "id": "20231220",
   "metadata": {},
   "outputs": [
    {
     "data": {
      "text/plain": [
       "([<matplotlib.lines.Line2D at 0x1e340c1d908>],\n",
       " <matplotlib.lines.Line2D at 0x1e340c11630>,\n",
       " <matplotlib.legend.Legend at 0x1e340c2bfd0>)"
      ]
     },
     "execution_count": 33,
     "metadata": {},
     "output_type": "execute_result"
    },
    {
     "data": {
      "image/png": "[encoded data removed]",
      "text/plain": [
       "<Figure size 432x288 with 1 Axes>"
      ]
     },
     "metadata": {
      "needs_background": "light"
     },
     "output_type": "display_data"
    }
   ],
   "source": [
    "grafica_dotplot_v2(df, 'undp_hdi', 'ht_region', statistic='mean')"
   ]
  },
  {
   "cell_type": "markdown",
   "id": "d2af8c35",
   "metadata": {},
   "source": [
    "___________"
   ]
  },
  {
   "cell_type": "markdown",
   "id": "6d5d6ea5",
   "metadata": {},
   "source": [
    "<b><font color='MediumSeaGreen'>6.</font> Guarde la base de datos (1 punto)</b>\n",
    "\n",
    "- La submuestra creada tiene un método llamado to_csv. Acceda a este y guarde la base de datos con la siguiente nomenclatura: *subsample_<iniciales>_demo.csv* \n",
    "    \n",
    "(Subela a la plataforma, junto al desafío)"
   ]
  },
  {
   "cell_type": "code",
   "execution_count": 34,
   "id": "4aec6855",
   "metadata": {},
   "outputs": [],
   "source": [
    "#GuardaR el subset en el archivo\n",
    "\n",
    "df_bpr.to_csv('subsample_bpr_demo.csv') "
   ]
  },
  {
   "cell_type": "markdown",
   "id": "efc690b5",
   "metadata": {},
   "source": [
    "______"
   ]
  },
  {
   "cell_type": "code",
   "execution_count": null,
   "id": "c4365939",
   "metadata": {},
   "outputs": [],
   "source": []
  }
 ],
 "metadata": {
  "kernelspec": {
   "display_name": "Python 3",
   "language": "python",
   "name": "python3"
  },
  "language_info": {
   "codemirror_mode": {
    "name": "ipython",
    "version": 3
   },
   "file_extension": ".py",
   "mimetype": "text/x-python",
   "name": "python",
   "nbconvert_exporter": "python",
   "pygments_lexer": "ipython3",
   "version": "3.7.1"
  }
 },
 "nbformat": 4,
 "nbformat_minor": 5
}
